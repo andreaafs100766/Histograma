{
  "nbformat": 4,
  "nbformat_minor": 0,
  "metadata": {
    "colab": {
      "provenance": [],
      "include_colab_link": true
    },
    "kernelspec": {
      "name": "python3",
      "display_name": "Python 3"
    },
    "language_info": {
      "name": "python"
    }
  },
  "cells": [
    {
      "cell_type": "markdown",
      "metadata": {
        "id": "view-in-github",
        "colab_type": "text"
      },
      "source": [
        "<a href=\"https://colab.research.google.com/github/andreaafs100766/Histograma/blob/master/C%C3%B3pia_de_histograma_semanal.ipynb\" target=\"_parent\"><img src=\"https://colab.research.google.com/assets/colab-badge.svg\" alt=\"Open In Colab\"/></a>"
      ]
    },
    {
      "cell_type": "code",
      "source": [
        "!pip install country_converter\n",
        "!pip install matplotlib\n",
        "!pip install seaborn\n",
        "!pip install scikit-learn"
      ],
      "metadata": {
        "colab": {
          "base_uri": "https://localhost:8080/"
        },
        "id": "c2p3JbMeqw2A",
        "outputId": "08e65b75-419f-4085-d249-c98a7bc007d7"
      },
      "execution_count": 1,
      "outputs": [
        {
          "output_type": "stream",
          "name": "stdout",
          "text": [
            "Looking in indexes: https://pypi.org/simple, https://us-python.pkg.dev/colab-wheels/public/simple/\n",
            "Collecting country_converter\n",
            "  Downloading country_converter-1.0.0-py3-none-any.whl (44 kB)\n",
            "\u001b[2K     \u001b[90m━━━━━━━━━━━━━━━━━━━━━━━━━━━━━━━━━━━━━━━━\u001b[0m \u001b[32m44.5/44.5 kB\u001b[0m \u001b[31m1.8 MB/s\u001b[0m eta \u001b[36m0:00:00\u001b[0m\n",
            "\u001b[?25hRequirement already satisfied: pandas>=1.0 in /usr/local/lib/python3.10/dist-packages (from country_converter) (1.5.3)\n",
            "Requirement already satisfied: python-dateutil>=2.8.1 in /usr/local/lib/python3.10/dist-packages (from pandas>=1.0->country_converter) (2.8.2)\n",
            "Requirement already satisfied: pytz>=2020.1 in /usr/local/lib/python3.10/dist-packages (from pandas>=1.0->country_converter) (2022.7.1)\n",
            "Requirement already satisfied: numpy>=1.21.0 in /usr/local/lib/python3.10/dist-packages (from pandas>=1.0->country_converter) (1.22.4)\n",
            "Requirement already satisfied: six>=1.5 in /usr/local/lib/python3.10/dist-packages (from python-dateutil>=2.8.1->pandas>=1.0->country_converter) (1.16.0)\n",
            "Installing collected packages: country_converter\n",
            "Successfully installed country_converter-1.0.0\n",
            "Looking in indexes: https://pypi.org/simple, https://us-python.pkg.dev/colab-wheels/public/simple/\n",
            "Requirement already satisfied: matplotlib in /usr/local/lib/python3.10/dist-packages (3.7.1)\n",
            "Requirement already satisfied: contourpy>=1.0.1 in /usr/local/lib/python3.10/dist-packages (from matplotlib) (1.0.7)\n",
            "Requirement already satisfied: cycler>=0.10 in /usr/local/lib/python3.10/dist-packages (from matplotlib) (0.11.0)\n",
            "Requirement already satisfied: fonttools>=4.22.0 in /usr/local/lib/python3.10/dist-packages (from matplotlib) (4.39.3)\n",
            "Requirement already satisfied: kiwisolver>=1.0.1 in /usr/local/lib/python3.10/dist-packages (from matplotlib) (1.4.4)\n",
            "Requirement already satisfied: numpy>=1.20 in /usr/local/lib/python3.10/dist-packages (from matplotlib) (1.22.4)\n",
            "Requirement already satisfied: packaging>=20.0 in /usr/local/lib/python3.10/dist-packages (from matplotlib) (23.1)\n",
            "Requirement already satisfied: pillow>=6.2.0 in /usr/local/lib/python3.10/dist-packages (from matplotlib) (8.4.0)\n",
            "Requirement already satisfied: pyparsing>=2.3.1 in /usr/local/lib/python3.10/dist-packages (from matplotlib) (3.0.9)\n",
            "Requirement already satisfied: python-dateutil>=2.7 in /usr/local/lib/python3.10/dist-packages (from matplotlib) (2.8.2)\n",
            "Requirement already satisfied: six>=1.5 in /usr/local/lib/python3.10/dist-packages (from python-dateutil>=2.7->matplotlib) (1.16.0)\n",
            "Looking in indexes: https://pypi.org/simple, https://us-python.pkg.dev/colab-wheels/public/simple/\n",
            "Requirement already satisfied: seaborn in /usr/local/lib/python3.10/dist-packages (0.12.2)\n",
            "Requirement already satisfied: numpy!=1.24.0,>=1.17 in /usr/local/lib/python3.10/dist-packages (from seaborn) (1.22.4)\n",
            "Requirement already satisfied: pandas>=0.25 in /usr/local/lib/python3.10/dist-packages (from seaborn) (1.5.3)\n",
            "Requirement already satisfied: matplotlib!=3.6.1,>=3.1 in /usr/local/lib/python3.10/dist-packages (from seaborn) (3.7.1)\n",
            "Requirement already satisfied: contourpy>=1.0.1 in /usr/local/lib/python3.10/dist-packages (from matplotlib!=3.6.1,>=3.1->seaborn) (1.0.7)\n",
            "Requirement already satisfied: cycler>=0.10 in /usr/local/lib/python3.10/dist-packages (from matplotlib!=3.6.1,>=3.1->seaborn) (0.11.0)\n",
            "Requirement already satisfied: fonttools>=4.22.0 in /usr/local/lib/python3.10/dist-packages (from matplotlib!=3.6.1,>=3.1->seaborn) (4.39.3)\n",
            "Requirement already satisfied: kiwisolver>=1.0.1 in /usr/local/lib/python3.10/dist-packages (from matplotlib!=3.6.1,>=3.1->seaborn) (1.4.4)\n",
            "Requirement already satisfied: packaging>=20.0 in /usr/local/lib/python3.10/dist-packages (from matplotlib!=3.6.1,>=3.1->seaborn) (23.1)\n",
            "Requirement already satisfied: pillow>=6.2.0 in /usr/local/lib/python3.10/dist-packages (from matplotlib!=3.6.1,>=3.1->seaborn) (8.4.0)\n",
            "Requirement already satisfied: pyparsing>=2.3.1 in /usr/local/lib/python3.10/dist-packages (from matplotlib!=3.6.1,>=3.1->seaborn) (3.0.9)\n",
            "Requirement already satisfied: python-dateutil>=2.7 in /usr/local/lib/python3.10/dist-packages (from matplotlib!=3.6.1,>=3.1->seaborn) (2.8.2)\n",
            "Requirement already satisfied: pytz>=2020.1 in /usr/local/lib/python3.10/dist-packages (from pandas>=0.25->seaborn) (2022.7.1)\n",
            "Requirement already satisfied: six>=1.5 in /usr/local/lib/python3.10/dist-packages (from python-dateutil>=2.7->matplotlib!=3.6.1,>=3.1->seaborn) (1.16.0)\n",
            "Looking in indexes: https://pypi.org/simple, https://us-python.pkg.dev/colab-wheels/public/simple/\n",
            "Requirement already satisfied: scikit-learn in /usr/local/lib/python3.10/dist-packages (1.2.2)\n",
            "Requirement already satisfied: numpy>=1.17.3 in /usr/local/lib/python3.10/dist-packages (from scikit-learn) (1.22.4)\n",
            "Requirement already satisfied: scipy>=1.3.2 in /usr/local/lib/python3.10/dist-packages (from scikit-learn) (1.10.1)\n",
            "Requirement already satisfied: joblib>=1.1.1 in /usr/local/lib/python3.10/dist-packages (from scikit-learn) (1.2.0)\n",
            "Requirement already satisfied: threadpoolctl>=2.0.0 in /usr/local/lib/python3.10/dist-packages (from scikit-learn) (3.1.0)\n"
          ]
        }
      ]
    },
    {
      "cell_type": "code",
      "execution_count": 3,
      "metadata": {
        "id": "mCSAhxpOEwl4"
      },
      "outputs": [],
      "source": [
        "import pandas as pd\n",
        "import statistics\n",
        "import numpy as np\n",
        "import math\n",
        "\n"
      ]
    },
    {
      "cell_type": "code",
      "source": [
        "# Informa a URL de importação do dataset\n",
        "def read_dataset():\n",
        "  \n",
        "    histograma=pd.read_csv('https://raw.githubusercontent.com/andreaafs100766/Histograma/master/histograma_semanal.csv')\n",
        "    print('\"Histograma.csv\" imported successfully!')\n",
        "\n",
        "    return histograma "
      ],
      "metadata": {
        "id": "C05NEg7drCm4"
      },
      "execution_count": 4,
      "outputs": []
    },
    {
      "cell_type": "code",
      "source": [
        "histograma=read_dataset()"
      ],
      "metadata": {
        "colab": {
          "base_uri": "https://localhost:8080/"
        },
        "id": "e4dPclf8rxyF",
        "outputId": "eadbdb52-3cc2-49bf-dbed-7e03bf5a7e71"
      },
      "execution_count": 9,
      "outputs": [
        {
          "output_type": "stream",
          "name": "stdout",
          "text": [
            "\"Histograma.csv\" imported successfully!\n"
          ]
        }
      ]
    },
    {
      "cell_type": "code",
      "source": [
        "print(histograma)\n"
      ],
      "metadata": {
        "colab": {
          "base_uri": "https://localhost:8080/"
        },
        "id": "bKJu5NoEucos",
        "outputId": "19a1739d-9a40-4d0f-ccee-7adf72d50aa6"
      },
      "execution_count": 12,
      "outputs": [
        {
          "output_type": "stream",
          "name": "stdout",
          "text": [
            "                               ProjectId         ProjectName  \\\n",
            "0   0c3eeb0b-78e3-ed11-aae2-5ccd5bfe8a75  PAREDE NORTE - MAC   \n",
            "1   0c3eeb0b-78e3-ed11-aae2-5ccd5bfe8a75  PAREDE NORTE - MAC   \n",
            "2   0c3eeb0b-78e3-ed11-aae2-5ccd5bfe8a75  PAREDE NORTE - MAC   \n",
            "3   0c3eeb0b-78e3-ed11-aae2-5ccd5bfe8a75  PAREDE NORTE - MAC   \n",
            "4   0c3eeb0b-78e3-ed11-aae2-5ccd5bfe8a75  PAREDE NORTE - MAC   \n",
            "..                                   ...                 ...   \n",
            "95  0c3eeb0b-78e3-ed11-aae2-5ccd5bfe8a75  PAREDE NORTE - MAC   \n",
            "96  0c3eeb0b-78e3-ed11-aae2-5ccd5bfe8a75  PAREDE NORTE - MAC   \n",
            "97  0c3eeb0b-78e3-ed11-aae2-5ccd5bfe8a75  PAREDE NORTE - MAC   \n",
            "98  0c3eeb0b-78e3-ed11-aae2-5ccd5bfe8a75  PAREDE NORTE - MAC   \n",
            "99  0c3eeb0b-78e3-ed11-aae2-5ccd5bfe8a75  PAREDE NORTE - MAC   \n",
            "\n",
            "                              ResourceId             ResourceName  \\\n",
            "0   205ba2a9-189c-ed11-a630-00155d887f6c  BOMBA DE INJECAO GEOMAQ   \n",
            "1   205ba2a9-189c-ed11-a630-00155d887f6c  BOMBA DE INJECAO GEOMAQ   \n",
            "2   205ba2a9-189c-ed11-a630-00155d887f6c  BOMBA DE INJECAO GEOMAQ   \n",
            "3   205ba2a9-189c-ed11-a630-00155d887f6c  BOMBA DE INJECAO GEOMAQ   \n",
            "4   205ba2a9-189c-ed11-a630-00155d887f6c  BOMBA DE INJECAO GEOMAQ   \n",
            "..                                   ...                      ...   \n",
            "95  205ba2a9-189c-ed11-a630-00155d887f6c  BOMBA DE INJECAO GEOMAQ   \n",
            "96  205ba2a9-189c-ed11-a630-00155d887f6c  BOMBA DE INJECAO GEOMAQ   \n",
            "97  205ba2a9-189c-ed11-a630-00155d887f6c  BOMBA DE INJECAO GEOMAQ   \n",
            "98  205ba2a9-189c-ed11-a630-00155d887f6c  BOMBA DE INJECAO GEOMAQ   \n",
            "99  205ba2a9-189c-ed11-a630-00155d887f6c  BOMBA DE INJECAO GEOMAQ   \n",
            "\n",
            "    nivelamento StartDate_novo  AssignmentPeakUnits  dia  mes   ano  \\\n",
            "0             1     2022-12-26                    1   26   12  2022   \n",
            "1             1     2023-01-02                    0    2    1  2023   \n",
            "2             1     2023-01-09                    0    9    1  2023   \n",
            "3             1     2023-01-16                    0   16    1  2023   \n",
            "4             1     2023-01-23                    0   23    1  2023   \n",
            "..          ...            ...                  ...  ...  ...   ...   \n",
            "95            1     2024-10-21                    0   21   10  2024   \n",
            "96            1     2024-10-28                    0   28   10  2024   \n",
            "97            1     2024-11-04                    0    4   11  2024   \n",
            "98            1     2024-11-25                    0   25   11  2024   \n",
            "99            1     2024-12-02                    0    2   12  2024   \n",
            "\n",
            "    Nivelamento1  Nivelamento2  AjusteFino  LinhadeBase Flag_corrente  \\\n",
            "0              0             0           0            0             S   \n",
            "1              0             0           0            0             S   \n",
            "2              0             0           0            0             S   \n",
            "3              0             0           0            0             S   \n",
            "4              0             0           0            0             S   \n",
            "..           ...           ...         ...          ...           ...   \n",
            "95             0             0           0            0             S   \n",
            "96             0             0           0            0             S   \n",
            "97             0             0           0            0             S   \n",
            "98             0             0           0            0             S   \n",
            "99             0             0           0            0             S   \n",
            "\n",
            "   Data_INICIO    Data_FIM  \n",
            "0   2023-05-11  2999-01-01  \n",
            "1   2023-05-11  2999-01-01  \n",
            "2   2023-05-11  2999-01-01  \n",
            "3   2023-05-11  2999-01-01  \n",
            "4   2023-05-11  2999-01-01  \n",
            "..         ...         ...  \n",
            "95  2023-05-11  2999-01-01  \n",
            "96  2023-05-11  2999-01-01  \n",
            "97  2023-05-11  2999-01-01  \n",
            "98  2023-05-11  2999-01-01  \n",
            "99  2023-05-11  2999-01-01  \n",
            "\n",
            "[100 rows x 17 columns]\n"
          ]
        }
      ]
    },
    {
      "cell_type": "code",
      "source": [
        "histograma.shape"
      ],
      "metadata": {
        "colab": {
          "base_uri": "https://localhost:8080/"
        },
        "id": "yL28uuAqsSEg",
        "outputId": "01819d1d-a79c-4c84-c66b-a582c33bf697"
      },
      "execution_count": 10,
      "outputs": [
        {
          "output_type": "execute_result",
          "data": {
            "text/plain": [
              "(100, 17)"
            ]
          },
          "metadata": {},
          "execution_count": 10
        }
      ]
    },
    {
      "cell_type": "code",
      "source": [
        "# Mostra as informações do dataset credits\n",
        "histograma.info()"
      ],
      "metadata": {
        "colab": {
          "base_uri": "https://localhost:8080/"
        },
        "id": "a4SIjwIWtDKz",
        "outputId": "77e32479-7bda-4721-e227-4d1a3949b452"
      },
      "execution_count": 11,
      "outputs": [
        {
          "output_type": "stream",
          "name": "stdout",
          "text": [
            "<class 'pandas.core.frame.DataFrame'>\n",
            "RangeIndex: 100 entries, 0 to 99\n",
            "Data columns (total 17 columns):\n",
            " #   Column               Non-Null Count  Dtype \n",
            "---  ------               --------------  ----- \n",
            " 0   ProjectId            100 non-null    object\n",
            " 1   ProjectName          100 non-null    object\n",
            " 2   ResourceId           100 non-null    object\n",
            " 3   ResourceName         100 non-null    object\n",
            " 4   nivelamento          100 non-null    int64 \n",
            " 5   StartDate_novo       100 non-null    object\n",
            " 6   AssignmentPeakUnits  100 non-null    int64 \n",
            " 7   dia                  100 non-null    int64 \n",
            " 8   mes                  100 non-null    int64 \n",
            " 9   ano                  100 non-null    int64 \n",
            " 10  Nivelamento1         100 non-null    int64 \n",
            " 11  Nivelamento2         100 non-null    int64 \n",
            " 12  AjusteFino           100 non-null    int64 \n",
            " 13  LinhadeBase          100 non-null    int64 \n",
            " 14  Flag_corrente        100 non-null    object\n",
            " 15  Data_INICIO          100 non-null    object\n",
            " 16  Data_FIM             100 non-null    object\n",
            "dtypes: int64(9), object(8)\n",
            "memory usage: 13.4+ KB\n"
          ]
        }
      ]
    },
    {
      "cell_type": "code",
      "source": [
        "print(histograma.columns)\n"
      ],
      "metadata": {
        "colab": {
          "base_uri": "https://localhost:8080/"
        },
        "id": "vbe1R5TqzxwF",
        "outputId": "c8e4e924-fc92-4446-d1f5-4472bcffd986"
      },
      "execution_count": 21,
      "outputs": [
        {
          "output_type": "stream",
          "name": "stdout",
          "text": [
            "Index(['ProjectId', 'ProjectName', 'ResourceId', 'ResourceName', 'nivelamento',\n",
            "       'StartDate_novo', 'AssignmentPeakUnits', 'dia', 'mes', 'ano',\n",
            "       'Nivelamento1', 'Nivelamento2', 'AjusteFino', 'LinhadeBase',\n",
            "       'Flag_corrente', 'Data_INICIO', 'Data_FIM'],\n",
            "      dtype='object')\n"
          ]
        }
      ]
    },
    {
      "cell_type": "code",
      "source": [
        "##cria uma tabela pivoteada a partir do dataframe df. Os valores da tabela\n",
        "\n",
        "histograma.pivot_table(values='AssignmentPeakUnits', index=['ProjectName','ResourceName'], columns='StartDate_novo')\n",
        "\n",
        "\n"
      ],
      "metadata": {
        "colab": {
          "base_uri": "https://localhost:8080/",
          "height": 237
        },
        "id": "xaonIufzutMU",
        "outputId": "b57804ac-e8f3-4977-9cb4-82d82decb68e"
      },
      "execution_count": 30,
      "outputs": [
        {
          "output_type": "execute_result",
          "data": {
            "text/plain": [
              "StartDate_novo                              2022-12-26  2023-01-02  \\\n",
              "ProjectName        ResourceName                                      \n",
              "PAREDE NORTE - MAC BOMBA DE INJECAO GEOMAQ           1           0   \n",
              "\n",
              "StartDate_novo                              2023-01-09  2023-01-16  \\\n",
              "ProjectName        ResourceName                                      \n",
              "PAREDE NORTE - MAC BOMBA DE INJECAO GEOMAQ           0           0   \n",
              "\n",
              "StartDate_novo                              2023-01-23  2023-01-30  \\\n",
              "ProjectName        ResourceName                                      \n",
              "PAREDE NORTE - MAC BOMBA DE INJECAO GEOMAQ           0           0   \n",
              "\n",
              "StartDate_novo                              2023-02-06  2023-02-13  \\\n",
              "ProjectName        ResourceName                                      \n",
              "PAREDE NORTE - MAC BOMBA DE INJECAO GEOMAQ           1           1   \n",
              "\n",
              "StartDate_novo                              2023-02-20  2023-02-27  ...  \\\n",
              "ProjectName        ResourceName                                     ...   \n",
              "PAREDE NORTE - MAC BOMBA DE INJECAO GEOMAQ           1           1  ...   \n",
              "\n",
              "StartDate_novo                              2024-09-16  2024-09-23  \\\n",
              "ProjectName        ResourceName                                      \n",
              "PAREDE NORTE - MAC BOMBA DE INJECAO GEOMAQ           0           0   \n",
              "\n",
              "StartDate_novo                              2024-09-30  2024-10-07  \\\n",
              "ProjectName        ResourceName                                      \n",
              "PAREDE NORTE - MAC BOMBA DE INJECAO GEOMAQ           0           0   \n",
              "\n",
              "StartDate_novo                              2024-10-14  2024-10-21  \\\n",
              "ProjectName        ResourceName                                      \n",
              "PAREDE NORTE - MAC BOMBA DE INJECAO GEOMAQ           0           0   \n",
              "\n",
              "StartDate_novo                              2024-10-28  2024-11-04  \\\n",
              "ProjectName        ResourceName                                      \n",
              "PAREDE NORTE - MAC BOMBA DE INJECAO GEOMAQ           0           0   \n",
              "\n",
              "StartDate_novo                              2024-11-25  2024-12-02  \n",
              "ProjectName        ResourceName                                     \n",
              "PAREDE NORTE - MAC BOMBA DE INJECAO GEOMAQ           0           0  \n",
              "\n",
              "[1 rows x 100 columns]"
            ],
            "text/html": [
              "\n",
              "  <div id=\"df-541972cb-c094-4c28-8dc7-189f09d8a897\">\n",
              "    <div class=\"colab-df-container\">\n",
              "      <div>\n",
              "<style scoped>\n",
              "    .dataframe tbody tr th:only-of-type {\n",
              "        vertical-align: middle;\n",
              "    }\n",
              "\n",
              "    .dataframe tbody tr th {\n",
              "        vertical-align: top;\n",
              "    }\n",
              "\n",
              "    .dataframe thead th {\n",
              "        text-align: right;\n",
              "    }\n",
              "</style>\n",
              "<table border=\"1\" class=\"dataframe\">\n",
              "  <thead>\n",
              "    <tr style=\"text-align: right;\">\n",
              "      <th></th>\n",
              "      <th>StartDate_novo</th>\n",
              "      <th>2022-12-26</th>\n",
              "      <th>2023-01-02</th>\n",
              "      <th>2023-01-09</th>\n",
              "      <th>2023-01-16</th>\n",
              "      <th>2023-01-23</th>\n",
              "      <th>2023-01-30</th>\n",
              "      <th>2023-02-06</th>\n",
              "      <th>2023-02-13</th>\n",
              "      <th>2023-02-20</th>\n",
              "      <th>2023-02-27</th>\n",
              "      <th>...</th>\n",
              "      <th>2024-09-16</th>\n",
              "      <th>2024-09-23</th>\n",
              "      <th>2024-09-30</th>\n",
              "      <th>2024-10-07</th>\n",
              "      <th>2024-10-14</th>\n",
              "      <th>2024-10-21</th>\n",
              "      <th>2024-10-28</th>\n",
              "      <th>2024-11-04</th>\n",
              "      <th>2024-11-25</th>\n",
              "      <th>2024-12-02</th>\n",
              "    </tr>\n",
              "    <tr>\n",
              "      <th>ProjectName</th>\n",
              "      <th>ResourceName</th>\n",
              "      <th></th>\n",
              "      <th></th>\n",
              "      <th></th>\n",
              "      <th></th>\n",
              "      <th></th>\n",
              "      <th></th>\n",
              "      <th></th>\n",
              "      <th></th>\n",
              "      <th></th>\n",
              "      <th></th>\n",
              "      <th></th>\n",
              "      <th></th>\n",
              "      <th></th>\n",
              "      <th></th>\n",
              "      <th></th>\n",
              "      <th></th>\n",
              "      <th></th>\n",
              "      <th></th>\n",
              "      <th></th>\n",
              "      <th></th>\n",
              "      <th></th>\n",
              "    </tr>\n",
              "  </thead>\n",
              "  <tbody>\n",
              "    <tr>\n",
              "      <th>PAREDE NORTE - MAC</th>\n",
              "      <th>BOMBA DE INJECAO GEOMAQ</th>\n",
              "      <td>1</td>\n",
              "      <td>0</td>\n",
              "      <td>0</td>\n",
              "      <td>0</td>\n",
              "      <td>0</td>\n",
              "      <td>0</td>\n",
              "      <td>1</td>\n",
              "      <td>1</td>\n",
              "      <td>1</td>\n",
              "      <td>1</td>\n",
              "      <td>...</td>\n",
              "      <td>0</td>\n",
              "      <td>0</td>\n",
              "      <td>0</td>\n",
              "      <td>0</td>\n",
              "      <td>0</td>\n",
              "      <td>0</td>\n",
              "      <td>0</td>\n",
              "      <td>0</td>\n",
              "      <td>0</td>\n",
              "      <td>0</td>\n",
              "    </tr>\n",
              "  </tbody>\n",
              "</table>\n",
              "<p>1 rows × 100 columns</p>\n",
              "</div>\n",
              "      <button class=\"colab-df-convert\" onclick=\"convertToInteractive('df-541972cb-c094-4c28-8dc7-189f09d8a897')\"\n",
              "              title=\"Convert this dataframe to an interactive table.\"\n",
              "              style=\"display:none;\">\n",
              "        \n",
              "  <svg xmlns=\"http://www.w3.org/2000/svg\" height=\"24px\"viewBox=\"0 0 24 24\"\n",
              "       width=\"24px\">\n",
              "    <path d=\"M0 0h24v24H0V0z\" fill=\"none\"/>\n",
              "    <path d=\"M18.56 5.44l.94 2.06.94-2.06 2.06-.94-2.06-.94-.94-2.06-.94 2.06-2.06.94zm-11 1L8.5 8.5l.94-2.06 2.06-.94-2.06-.94L8.5 2.5l-.94 2.06-2.06.94zm10 10l.94 2.06.94-2.06 2.06-.94-2.06-.94-.94-2.06-.94 2.06-2.06.94z\"/><path d=\"M17.41 7.96l-1.37-1.37c-.4-.4-.92-.59-1.43-.59-.52 0-1.04.2-1.43.59L10.3 9.45l-7.72 7.72c-.78.78-.78 2.05 0 2.83L4 21.41c.39.39.9.59 1.41.59.51 0 1.02-.2 1.41-.59l7.78-7.78 2.81-2.81c.8-.78.8-2.07 0-2.86zM5.41 20L4 18.59l7.72-7.72 1.47 1.35L5.41 20z\"/>\n",
              "  </svg>\n",
              "      </button>\n",
              "      \n",
              "  <style>\n",
              "    .colab-df-container {\n",
              "      display:flex;\n",
              "      flex-wrap:wrap;\n",
              "      gap: 12px;\n",
              "    }\n",
              "\n",
              "    .colab-df-convert {\n",
              "      background-color: #E8F0FE;\n",
              "      border: none;\n",
              "      border-radius: 50%;\n",
              "      cursor: pointer;\n",
              "      display: none;\n",
              "      fill: #1967D2;\n",
              "      height: 32px;\n",
              "      padding: 0 0 0 0;\n",
              "      width: 32px;\n",
              "    }\n",
              "\n",
              "    .colab-df-convert:hover {\n",
              "      background-color: #E2EBFA;\n",
              "      box-shadow: 0px 1px 2px rgba(60, 64, 67, 0.3), 0px 1px 3px 1px rgba(60, 64, 67, 0.15);\n",
              "      fill: #174EA6;\n",
              "    }\n",
              "\n",
              "    [theme=dark] .colab-df-convert {\n",
              "      background-color: #3B4455;\n",
              "      fill: #D2E3FC;\n",
              "    }\n",
              "\n",
              "    [theme=dark] .colab-df-convert:hover {\n",
              "      background-color: #434B5C;\n",
              "      box-shadow: 0px 1px 3px 1px rgba(0, 0, 0, 0.15);\n",
              "      filter: drop-shadow(0px 1px 2px rgba(0, 0, 0, 0.3));\n",
              "      fill: #FFFFFF;\n",
              "    }\n",
              "  </style>\n",
              "\n",
              "      <script>\n",
              "        const buttonEl =\n",
              "          document.querySelector('#df-541972cb-c094-4c28-8dc7-189f09d8a897 button.colab-df-convert');\n",
              "        buttonEl.style.display =\n",
              "          google.colab.kernel.accessAllowed ? 'block' : 'none';\n",
              "\n",
              "        async function convertToInteractive(key) {\n",
              "          const element = document.querySelector('#df-541972cb-c094-4c28-8dc7-189f09d8a897');\n",
              "          const dataTable =\n",
              "            await google.colab.kernel.invokeFunction('convertToInteractive',\n",
              "                                                     [key], {});\n",
              "          if (!dataTable) return;\n",
              "\n",
              "          const docLinkHtml = 'Like what you see? Visit the ' +\n",
              "            '<a target=\"_blank\" href=https://colab.research.google.com/notebooks/data_table.ipynb>data table notebook</a>'\n",
              "            + ' to learn more about interactive tables.';\n",
              "          element.innerHTML = '';\n",
              "          dataTable['output_type'] = 'display_data';\n",
              "          await google.colab.output.renderOutput(dataTable, element);\n",
              "          const docLink = document.createElement('div');\n",
              "          docLink.innerHTML = docLinkHtml;\n",
              "          element.appendChild(docLink);\n",
              "        }\n",
              "      </script>\n",
              "    </div>\n",
              "  </div>\n",
              "  "
            ]
          },
          "metadata": {},
          "execution_count": 30
        }
      ]
    },
    {
      "cell_type": "code",
      "source": [
        "from numpy.lib.histograms import histogram\n",
        "# calcula MEdiana de 9 , 5 e 3\n",
        " \n",
        "# Seleciona apenas a coluna com valores numéricos\n",
        "coluna_numerica = histograma['AssignmentPeakUnits']\n",
        "\n",
        "#print (coluna_numerica)\n",
        "numeros_ordenados = np.sort(coluna_numerica)\n",
        "# Calcula a mediana da coluna selecionada\n",
        "mediana = np.median(numeros_ordenados)\n",
        "\n",
        "print(mediana)"
      ],
      "metadata": {
        "colab": {
          "base_uri": "https://localhost:8080/"
        },
        "id": "KPVXz57rz9lV",
        "outputId": "e5e4c797-01d4-429b-b627-82868bd1c711"
      },
      "execution_count": 35,
      "outputs": [
        {
          "output_type": "stream",
          "name": "stdout",
          "text": [
            "0.0\n"
          ]
        }
      ]
    },
    {
      "cell_type": "code",
      "source": [
        "## Como gerar um pivot "
      ],
      "metadata": {
        "id": "MDGo_ot4tNlB"
      },
      "execution_count": null,
      "outputs": []
    },
    {
      "cell_type": "code",
      "source": [
        "df_resourceid = df[df['ResourceId'].str.contains('e1049798-189c-ed11-a630-00155d887f6c') & df['ProjectId'].str.contains('0c3eeb0b-78e3-ed11-aae2-5ccd5bfe8a75')]\n",
        "df_resourceid['StartDate_novo'] = pd.to_datetime(df_resourceid['StartDate_novo'])\n",
        "df_resourceid['Data'] = df_resourceid['StartDate_novo'].dt.strftime('%d/%m/%Y')\n",
        "df_resourceid['Data'] = pd.to_datetime(df_resourceid['Data'])\n",
        "df_resourceid = df_resourceid.groupby(pd.Grouper(key='Data', freq='M')).sum()\n",
        "\n",
        "pivot = pd.pivot_table(df_resourceid, values='Data', index=['ProjectId', 'ProjectName', 'ResourceId', 'ResourceName', 'nivelamento'], columns='Data', aggfunc=lambda x: ' '.join(x))\n",
        "pivot.index.name = None\n",
        "pivot"
      ],
      "metadata": {
        "colab": {
          "base_uri": "https://localhost:8080/",
          "height": 782
        },
        "id": "Gnp2K_cEMnQd",
        "outputId": "9e4e36f7-c740-4051-d802-e4336e80e132"
      },
      "execution_count": null,
      "outputs": [
        {
          "output_type": "stream",
          "name": "stderr",
          "text": [
            "<ipython-input-75-53ca3fd3c00c>:2: SettingWithCopyWarning: \n",
            "A value is trying to be set on a copy of a slice from a DataFrame.\n",
            "Try using .loc[row_indexer,col_indexer] = value instead\n",
            "\n",
            "See the caveats in the documentation: https://pandas.pydata.org/pandas-docs/stable/user_guide/indexing.html#returning-a-view-versus-a-copy\n",
            "  df_resourceid['StartDate_novo'] = pd.to_datetime(df_resourceid['StartDate_novo'])\n",
            "<ipython-input-75-53ca3fd3c00c>:3: SettingWithCopyWarning: \n",
            "A value is trying to be set on a copy of a slice from a DataFrame.\n",
            "Try using .loc[row_indexer,col_indexer] = value instead\n",
            "\n",
            "See the caveats in the documentation: https://pandas.pydata.org/pandas-docs/stable/user_guide/indexing.html#returning-a-view-versus-a-copy\n",
            "  df_resourceid['Data'] = df_resourceid['StartDate_novo'].dt.strftime('%d/%m/%Y')\n",
            "<ipython-input-75-53ca3fd3c00c>:4: UserWarning: Parsing dates in DD/MM/YYYY format when dayfirst=False (the default) was specified. This may lead to inconsistently parsed dates! Specify a format to ensure consistent parsing.\n",
            "  df_resourceid['Data'] = pd.to_datetime(df_resourceid['Data'])\n",
            "<ipython-input-75-53ca3fd3c00c>:4: SettingWithCopyWarning: \n",
            "A value is trying to be set on a copy of a slice from a DataFrame.\n",
            "Try using .loc[row_indexer,col_indexer] = value instead\n",
            "\n",
            "See the caveats in the documentation: https://pandas.pydata.org/pandas-docs/stable/user_guide/indexing.html#returning-a-view-versus-a-copy\n",
            "  df_resourceid['Data'] = pd.to_datetime(df_resourceid['Data'])\n",
            "<ipython-input-75-53ca3fd3c00c>:5: FutureWarning: The default value of numeric_only in DataFrameGroupBy.sum is deprecated. In a future version, numeric_only will default to False. Either specify numeric_only or select only columns which should be valid for the function.\n",
            "  df_resourceid = df_resourceid.groupby(pd.Grouper(key='Data', freq='M')).sum()\n"
          ]
        },
        {
          "output_type": "error",
          "ename": "KeyError",
          "evalue": "ignored",
          "traceback": [
            "\u001b[0;31m---------------------------------------------------------------------------\u001b[0m",
            "\u001b[0;31mKeyError\u001b[0m                                  Traceback (most recent call last)",
            "\u001b[0;32m<ipython-input-75-53ca3fd3c00c>\u001b[0m in \u001b[0;36m<cell line: 7>\u001b[0;34m()\u001b[0m\n\u001b[1;32m      5\u001b[0m \u001b[0mdf_resourceid\u001b[0m \u001b[0;34m=\u001b[0m \u001b[0mdf_resourceid\u001b[0m\u001b[0;34m.\u001b[0m\u001b[0mgroupby\u001b[0m\u001b[0;34m(\u001b[0m\u001b[0mpd\u001b[0m\u001b[0;34m.\u001b[0m\u001b[0mGrouper\u001b[0m\u001b[0;34m(\u001b[0m\u001b[0mkey\u001b[0m\u001b[0;34m=\u001b[0m\u001b[0;34m'Data'\u001b[0m\u001b[0;34m,\u001b[0m \u001b[0mfreq\u001b[0m\u001b[0;34m=\u001b[0m\u001b[0;34m'M'\u001b[0m\u001b[0;34m)\u001b[0m\u001b[0;34m)\u001b[0m\u001b[0;34m.\u001b[0m\u001b[0msum\u001b[0m\u001b[0;34m(\u001b[0m\u001b[0;34m)\u001b[0m\u001b[0;34m\u001b[0m\u001b[0;34m\u001b[0m\u001b[0m\n\u001b[1;32m      6\u001b[0m \u001b[0;34m\u001b[0m\u001b[0m\n\u001b[0;32m----> 7\u001b[0;31m \u001b[0mpivot\u001b[0m \u001b[0;34m=\u001b[0m \u001b[0mpd\u001b[0m\u001b[0;34m.\u001b[0m\u001b[0mpivot_table\u001b[0m\u001b[0;34m(\u001b[0m\u001b[0mdf_resourceid\u001b[0m\u001b[0;34m,\u001b[0m \u001b[0mvalues\u001b[0m\u001b[0;34m=\u001b[0m\u001b[0;34m'Data'\u001b[0m\u001b[0;34m,\u001b[0m \u001b[0mindex\u001b[0m\u001b[0;34m=\u001b[0m\u001b[0;34m[\u001b[0m\u001b[0;34m'ProjectId'\u001b[0m\u001b[0;34m,\u001b[0m \u001b[0;34m'ProjectName'\u001b[0m\u001b[0;34m,\u001b[0m \u001b[0;34m'ResourceId'\u001b[0m\u001b[0;34m,\u001b[0m \u001b[0;34m'ResourceName'\u001b[0m\u001b[0;34m,\u001b[0m \u001b[0;34m'nivelamento'\u001b[0m\u001b[0;34m]\u001b[0m\u001b[0;34m,\u001b[0m \u001b[0mcolumns\u001b[0m\u001b[0;34m=\u001b[0m\u001b[0;34m'Data'\u001b[0m\u001b[0;34m,\u001b[0m \u001b[0maggfunc\u001b[0m\u001b[0;34m=\u001b[0m\u001b[0;32mlambda\u001b[0m \u001b[0mx\u001b[0m\u001b[0;34m:\u001b[0m \u001b[0;34m' '\u001b[0m\u001b[0;34m.\u001b[0m\u001b[0mjoin\u001b[0m\u001b[0;34m(\u001b[0m\u001b[0mx\u001b[0m\u001b[0;34m)\u001b[0m\u001b[0;34m)\u001b[0m\u001b[0;34m\u001b[0m\u001b[0;34m\u001b[0m\u001b[0m\n\u001b[0m\u001b[1;32m      8\u001b[0m \u001b[0mpivot\u001b[0m\u001b[0;34m.\u001b[0m\u001b[0mindex\u001b[0m\u001b[0;34m.\u001b[0m\u001b[0mname\u001b[0m \u001b[0;34m=\u001b[0m \u001b[0;32mNone\u001b[0m\u001b[0;34m\u001b[0m\u001b[0;34m\u001b[0m\u001b[0m\n\u001b[1;32m      9\u001b[0m \u001b[0mpivot\u001b[0m\u001b[0;34m\u001b[0m\u001b[0;34m\u001b[0m\u001b[0m\n",
            "\u001b[0;32m/usr/local/lib/python3.10/dist-packages/pandas/core/reshape/pivot.py\u001b[0m in \u001b[0;36mpivot_table\u001b[0;34m(data, values, index, columns, aggfunc, fill_value, margins, dropna, margins_name, observed, sort)\u001b[0m\n\u001b[1;32m     95\u001b[0m         \u001b[0;32mreturn\u001b[0m \u001b[0mtable\u001b[0m\u001b[0;34m.\u001b[0m\u001b[0m__finalize__\u001b[0m\u001b[0;34m(\u001b[0m\u001b[0mdata\u001b[0m\u001b[0;34m,\u001b[0m \u001b[0mmethod\u001b[0m\u001b[0;34m=\u001b[0m\u001b[0;34m\"pivot_table\"\u001b[0m\u001b[0;34m)\u001b[0m\u001b[0;34m\u001b[0m\u001b[0;34m\u001b[0m\u001b[0m\n\u001b[1;32m     96\u001b[0m \u001b[0;34m\u001b[0m\u001b[0m\n\u001b[0;32m---> 97\u001b[0;31m     table = __internal_pivot_table(\n\u001b[0m\u001b[1;32m     98\u001b[0m         \u001b[0mdata\u001b[0m\u001b[0;34m,\u001b[0m\u001b[0;34m\u001b[0m\u001b[0;34m\u001b[0m\u001b[0m\n\u001b[1;32m     99\u001b[0m         \u001b[0mvalues\u001b[0m\u001b[0;34m,\u001b[0m\u001b[0;34m\u001b[0m\u001b[0;34m\u001b[0m\u001b[0m\n",
            "\u001b[0;32m/usr/local/lib/python3.10/dist-packages/pandas/core/reshape/pivot.py\u001b[0m in \u001b[0;36m__internal_pivot_table\u001b[0;34m(data, values, index, columns, aggfunc, fill_value, margins, dropna, margins_name, observed, sort)\u001b[0m\n\u001b[1;32m    141\u001b[0m         \u001b[0;32mfor\u001b[0m \u001b[0mi\u001b[0m \u001b[0;32min\u001b[0m \u001b[0mvalues\u001b[0m\u001b[0;34m:\u001b[0m\u001b[0;34m\u001b[0m\u001b[0;34m\u001b[0m\u001b[0m\n\u001b[1;32m    142\u001b[0m             \u001b[0;32mif\u001b[0m \u001b[0mi\u001b[0m \u001b[0;32mnot\u001b[0m \u001b[0;32min\u001b[0m \u001b[0mdata\u001b[0m\u001b[0;34m:\u001b[0m\u001b[0;34m\u001b[0m\u001b[0;34m\u001b[0m\u001b[0m\n\u001b[0;32m--> 143\u001b[0;31m                 \u001b[0;32mraise\u001b[0m \u001b[0mKeyError\u001b[0m\u001b[0;34m(\u001b[0m\u001b[0mi\u001b[0m\u001b[0;34m)\u001b[0m\u001b[0;34m\u001b[0m\u001b[0;34m\u001b[0m\u001b[0m\n\u001b[0m\u001b[1;32m    144\u001b[0m \u001b[0;34m\u001b[0m\u001b[0m\n\u001b[1;32m    145\u001b[0m         \u001b[0mto_filter\u001b[0m \u001b[0;34m=\u001b[0m \u001b[0;34m[\u001b[0m\u001b[0;34m]\u001b[0m\u001b[0;34m\u001b[0m\u001b[0;34m\u001b[0m\u001b[0m\n",
            "\u001b[0;31mKeyError\u001b[0m: 'Data'"
          ]
        }
      ]
    },
    {
      "cell_type": "code",
      "source": [
        "df_resourceid"
      ],
      "metadata": {
        "id": "gQ5RTopA-tm1"
      },
      "execution_count": null,
      "outputs": []
    },
    {
      "cell_type": "code",
      "source": [
        "def round_up(n, decimals=0):\n",
        "    multiplier = 10 ** decimals\n",
        "    return math.ceil(n * multiplier) / multiplier\n",
        "\n",
        "def nivelamento_1(lista_dados: list):\n",
        "  lista_dados += [0] * (9 - len(lista_dados))\n",
        "  return np.median(lista_dados)\n",
        "\n",
        "def nivelamento_2(lista_dados: list):\n",
        "  return np.median(lista_dados)"
      ],
      "metadata": {
        "id": "tJLMgLEBzzF_"
      },
      "execution_count": null,
      "outputs": []
    },
    {
      "cell_type": "code",
      "source": [
        "df_nivelamento = (df_resourceid['nivelamento'] == 1).all()\n",
        "\n",
        "if df_nivelamento:\n",
        "  df_nivelamento['AssignmentPeakUnits']"
      ],
      "metadata": {
        "colab": {
          "base_uri": "https://localhost:8080/",
          "height": 130
        },
        "id": "6R2ma4ZqT2nn",
        "outputId": "0ec08ab3-cb4a-4162-f3c2-6bf7763f352f"
      },
      "execution_count": null,
      "outputs": [
        {
          "output_type": "error",
          "ename": "SyntaxError",
          "evalue": "ignored",
          "traceback": [
            "\u001b[0;36m  File \u001b[0;32m\"<ipython-input-71-f0c8b8c6ee49>\"\u001b[0;36m, line \u001b[0;32m3\u001b[0m\n\u001b[0;31m    if df_nivelamento:\u001b[0m\n\u001b[0m                      ^\u001b[0m\n\u001b[0;31mSyntaxError\u001b[0m\u001b[0;31m:\u001b[0m incomplete input\n"
          ]
        }
      ]
    },
    {
      "cell_type": "code",
      "source": [],
      "metadata": {
        "id": "PWRG4ksm4Rul"
      },
      "execution_count": null,
      "outputs": []
    }
  ]
}